{
 "cells": [
  {
   "cell_type": "markdown",
   "id": "e3047eba",
   "metadata": {},
   "source": [
    "# Importing problemtic excel's"
   ]
  },
  {
   "cell_type": "code",
   "execution_count": null,
   "id": "44170174",
   "metadata": {},
   "outputs": [],
   "source": [
    "import pandas as pd\n",
    "import re\n",
    "import numpy as np\n",
    "faultyExcel = pd.read_excel(\n",
    "    \"/excel_Data_1_column_only.xlsx\", \n",
    ")\n",
    "\n",
    "faultyExcel2 = pd.read_excel( \n",
    "    \"/excel_Data_2_column_only.xlsx\",\n",
    ")\n"
   ]
  },
  {
   "cell_type": "markdown",
   "id": "239245e7",
   "metadata": {},
   "source": [
    "## Sorting and filtering lead no. 1(contains state, organization, and contact name(name + mail)"
   ]
  },
  {
   "cell_type": "code",
   "execution_count": 1,
   "id": "cfeb9a0e",
   "metadata": {
    "collapsed": true
   },
   "outputs": [
    {
     "ename": "NameError",
     "evalue": "name 'faultyExcel' is not defined",
     "output_type": "error",
     "traceback": [
      "\u001b[1;31m---------------------------------------------------------------------------\u001b[0m",
      "\u001b[1;31mNameError\u001b[0m                                 Traceback (most recent call last)",
      "\u001b[1;32m~\\AppData\\Local\\Temp\\ipykernel_12300\\304903996.py\u001b[0m in \u001b[0;36m<module>\u001b[1;34m\u001b[0m\n\u001b[0;32m      3\u001b[0m wait.head(35)\"\"\"\n\u001b[0;32m      4\u001b[0m \u001b[1;33m\u001b[0m\u001b[0m\n\u001b[1;32m----> 5\u001b[1;33m \u001b[0mlistedExcel\u001b[0m \u001b[1;33m=\u001b[0m \u001b[0mlist\u001b[0m\u001b[1;33m(\u001b[0m\u001b[0mfaultyExcel\u001b[0m\u001b[1;33m[\u001b[0m\u001b[1;34m'insert_column_name'\u001b[0m\u001b[1;33m]\u001b[0m\u001b[1;33m)\u001b[0m\u001b[1;33m\u001b[0m\u001b[1;33m\u001b[0m\u001b[0m\n\u001b[0m\u001b[0;32m      6\u001b[0m \u001b[1;31m# setting up empty values to be filled when looping\u001b[0m\u001b[1;33m\u001b[0m\u001b[1;33m\u001b[0m\u001b[0m\n\u001b[0;32m      7\u001b[0m \u001b[0mstates\u001b[0m \u001b[1;33m=\u001b[0m \u001b[1;34m'Alabama'\u001b[0m\u001b[1;33m\u001b[0m\u001b[1;33m\u001b[0m\u001b[0m\n",
      "\u001b[1;31mNameError\u001b[0m: name 'faultyExcel' is not defined"
     ]
    }
   ],
   "source": [
    "\"\"\"wait = textf[textf['Alabama Associations'].str.contains('Beekeepers|Bee Keepers|Association')]\n",
    "wait = wait.sort_values(['Alabama Associations'], key=lambda x: x.str.len(), ascending = False)\n",
    "wait.head(35)\"\"\"\n",
    "\n",
    "listedExcel = list(faultyExcel['column_1'])\n",
    "# setting up empty values to be filled when looping\n",
    "states = 'Alabama'\n",
    "organization = ''\n",
    "contact_name = ''\n",
    "rowsForColumns = [{'state':states, 'organization':organization, 'contact name':contact_name}]\n",
    "to_be_DF = []\n",
    "# looping over each line and sorting for what column its relevent\n",
    "for line in listedExcel:\n",
    "    if 'Associations' in line:\n",
    "                     to_be_DF.append(rows[0].copy())\n",
    "                     rowsForColumns[0]['organization'] = ''\n",
    "                     rowsForColumns[0]['contact name'] = ''\n",
    "                     rowsForColumns[0]['state'] = line.split()[0]\n",
    "#making sure not to include special charachters\n",
    "    elif (re.search(r'Beekeepers|Bee Keepers|Association', line)) and (not re.search(r'[^a-zA-Z0-9\\s]', line) ):\n",
    "        \n",
    "        rowsForColumns[0]['organization'] = line\n",
    "    elif line.startswith(\"President\"):\n",
    "        rowsForColumns[0]['contact name'] = line\n",
    "        to_be_DF.append(rowsForColumns[0].copy())\n",
    "        rowsForColumns[0]['organization'] = \"\"\n",
    "        rowsForColumns[0]['contact name'] = \"\"\n",
    "# turning the list into df\n",
    "okExcel = pd.DataFrame(to_be_DF)\n",
    "\"\"\"inspecting the data\n",
    "largest = leadDF['organization'].apply(lambda x: len(x)).nlargest(10).index\n",
    "print(leadDF.iloc[largest]['organization'])\"\"\"\n",
    "#sorting time\n",
    "#removing numbers\n",
    "okExcel['contact name'] = okExcel['contact name'].str.replace(r'\\d', '').str.replace('-', '').str.strip()\n",
    "#separting email from the name\n",
    "okExcel['email'] = okExcel['contact name'].apply(lambda x:  x[x.rfind(' '):] if \"@\" in x else \"\")\n",
    "okExcel_1_unmerged=okExcel.loc[okExcel['organization'] != '']"
   ]
  },
  {
   "cell_type": "markdown",
   "id": "c29c98e4",
   "metadata": {},
   "source": [
    "## Sorting and filtering lead no. 2 (contains only site and organization)"
   ]
  },
  {
   "cell_type": "code",
   "execution_count": null,
   "id": "5687643d",
   "metadata": {},
   "outputs": [],
   "source": [
    "listedExcel2 = list(faultyExcel2['site'].str.lower())\n",
    "# setting up empty values to be filled when looping\n",
    "site = 'alabama'\n",
    "to_be_DF2 = []\n",
    "# looping over each line and filtering only organizations with sites\n",
    "for line in listedExcel2:\n",
    "#making sure not to include special charachters\n",
    "    if line.startswith('http'):\n",
    "        to_be_DF2.append(site)\n",
    "    else:\n",
    "        site = line\n",
    "        to_be_DF2.append(site)\n",
    "faultyExcel2['state'] = listToDF2\n",
    "# sheet contains observations of state name repeated for 3 fields\n",
    "okExcel_2_unmerged = faultyExcel2.loc[faultyExcel2['site'] != faultyExcel2['organization']]"
   ]
  },
  {
   "cell_type": "markdown",
   "id": "eea1d1f7",
   "metadata": {},
   "source": [
    "## Sorting and filtering lead no. 2 (contains only site and organization)"
   ]
  },
  {
   "cell_type": "code",
   "execution_count": null,
   "id": "72f5a325",
   "metadata": {},
   "outputs": [],
   "source": [
    "#stripping and lowering, for merging\n",
    "okExcel_1_unmerged = okExcel_1_unmerged.apply(lambda x: x.str.lower().str.strip())\n",
    "okExcel_2_unmerged = okExcel_2_unmerged.apply(lambda x: x.str.lower().str.strip())\n",
    "#we want to keep leads, who maybe filled manually\n",
    "leads_merged = okExcel_1_unmerged.merge(okExcel_2_unmerged, on=['organization', 'state'], how= 'outer')"
   ]
  }
 ],
 "metadata": {
  "kernelspec": {
   "display_name": "Python 3 (ipykernel)",
   "language": "python",
   "name": "python3"
  },
  "language_info": {
   "codemirror_mode": {
    "name": "ipython",
    "version": 3
   },
   "file_extension": ".py",
   "mimetype": "text/x-python",
   "name": "python",
   "nbconvert_exporter": "python",
   "pygments_lexer": "ipython3",
   "version": "3.9.13"
  }
 },
 "nbformat": 4,
 "nbformat_minor": 5
}
